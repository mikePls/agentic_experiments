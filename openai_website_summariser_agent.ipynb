{
 "cells": [
  {
   "cell_type": "markdown",
   "id": "1872569b-489c-4ba3-98f1-f3b644a6b42b",
   "metadata": {},
   "source": [
    "# Creating a website summariser agent with OpenAI"
   ]
  },
  {
   "cell_type": "code",
   "execution_count": 10,
   "id": "1c4ce5c0-857f-4e35-874d-8077952572f4",
   "metadata": {},
   "outputs": [],
   "source": [
    "import os\n",
    "import requests # For fetching website data\n",
    "from dotenv import load_dotenv # For accessing our API key\n",
    "from bs4 import BeautifulSoup # For accessing fetched website data\n",
    "from IPython.display import Markdown, display # For displaying processed website data\n",
    "from openai import OpenAI # Our summarizer model"
   ]
  },
  {
   "cell_type": "markdown",
   "id": "79ab77a5-6b86-43c5-9cf9-670fe00aa02a",
   "metadata": {},
   "source": [
    "### 1. Accessing the API key \n",
    "#### (Ensure the key exists inside a .env file and stored as 'OPENAI_API_KEY')"
   ]
  },
  {
   "cell_type": "code",
   "execution_count": 22,
   "id": "c727dc0a-abca-47c8-ac5c-811f888096e7",
   "metadata": {},
   "outputs": [
    {
     "name": "stdout",
     "output_type": "stream",
     "text": [
      "API key retrieved successfully!\n"
     ]
    }
   ],
   "source": [
    "load_dotenv(override=True)\n",
    "api_key = os.getenv('OPENAI_API_KEY')\n",
    "\n",
    "if api_key and api_key.strip() == api_key and api_key.startswith(\"sk-proj\"):\n",
    "    print(\"API key retrieved successfully!\")\n",
    "else:\n",
    "    print(\"Error retrieving API key\")"
   ]
  },
  {
   "cell_type": "markdown",
   "id": "94ed4719-7bfc-4192-ae16-32c106f6f9bc",
   "metadata": {},
   "source": [
    "### 1. Creating the OpenAI client"
   ]
  },
  {
   "cell_type": "code",
   "execution_count": 29,
   "id": "22783679-2a00-4bb6-8af5-e79b1febb468",
   "metadata": {},
   "outputs": [],
   "source": [
    "openai = OpenAI() # API key is fetched autometically, no need to pass here"
   ]
  },
  {
   "cell_type": "markdown",
   "id": "6c67244e-d3cb-4116-a66b-5c602fe5de0c",
   "metadata": {},
   "source": [
    "### 3. Create a header for accessing websites via get (Not always necessary, but may be blocked without it)"
   ]
  },
  {
   "cell_type": "code",
   "execution_count": 34,
   "id": "5d8be09f-ac61-423f-b36b-76c0d682f6eb",
   "metadata": {},
   "outputs": [],
   "source": [
    "headers = {\n",
    " \"User-Agent\": \"Mozilla/5.0 (Windows NT 10.0; Win64; x64) AppleWebKit/537.36 (KHTML, like Gecko) Chrome/117.0.0.0 Safari/537.36\"\n",
    "}"
   ]
  },
  {
   "cell_type": "markdown",
   "id": "a81b61ae-7bbc-4f80-9edf-05a52489e386",
   "metadata": {},
   "source": [
    "### 4. Create a class for storing and retrieving locally stored website information"
   ]
  },
  {
   "cell_type": "code",
   "execution_count": 142,
   "id": "51e28790-8475-4a2e-9b13-5f9b1dd89b42",
   "metadata": {},
   "outputs": [],
   "source": [
    "class Website:\n",
    "    def __init__(self, website_url:str, headers:dict=None):\n",
    "        self.website_url = website_url\n",
    "        self.headers = headers if headers else {\"User-Agent\": \"Mozilla/5.0 (Windows NT 10.0; Win64; x64) AppleWebKit/537.36 (KHTML, like Gecko) Chrome/117.0.0.0 Safari/537.36\"}\n",
    "        self.response = requests.get(url=self.website_url, headers = self.headers)\n",
    "        fetched_data = BeautifulSoup(self.response.content, 'html.parser')\n",
    "        self.website_title = fetched_data.title.string if fetched_data.title else 'Website title was not found'\n",
    "\n",
    "        for irrelevant_data in fetched_data.body(['script', 'style', 'img', 'input']):\n",
    "            irrelevant_data.decompose()\n",
    "\n",
    "        self.website_text = fetched_data.body.get_text(separator='\\n', strip=True)\n"
   ]
  },
  {
   "cell_type": "code",
   "execution_count": 144,
   "id": "56a91cb9-47e1-4fad-9733-1b1b2d747f7b",
   "metadata": {},
   "outputs": [],
   "source": [
    "# Uncomment the following lines to test out the class\n",
    "\n",
    "# cnn = Website('https://www.cnn.com', headers)\n",
    "# print(cnn.website_title)\n",
    "# print(cnn.website_text)"
   ]
  },
  {
   "cell_type": "markdown",
   "id": "648393d3-1161-4d58-b26e-1613ba1581c1",
   "metadata": {},
   "source": [
    "### 5. Create a function that generates user queries for the model"
   ]
  },
  {
   "cell_type": "code",
   "execution_count": 147,
   "id": "bcbe7c0d-276f-42ba-862e-90f6afa41175",
   "metadata": {},
   "outputs": [],
   "source": [
    "def user_prompt_for(website_data: Website):\n",
    "    user_prompt = f\"Current website title: {website_data.website_title} \\\n",
    "    \\n The contents of the website are as follows:\\n \\\n",
    "    {website_data.website_text}\"\n",
    "    return user_prompt"
   ]
  },
  {
   "cell_type": "markdown",
   "id": "8859b08f-bf6a-4cb8-b709-18367d57605a",
   "metadata": {},
   "source": [
    "### 6. Create a function that generates full prompt for the AI agent, given a url"
   ]
  },
  {
   "cell_type": "code",
   "execution_count": 164,
   "id": "b11f04ec-5f63-46e4-ad26-98fddc449de5",
   "metadata": {},
   "outputs": [],
   "source": [
    "def create_prompt(url: str, system_prompt:str):\n",
    "    website_data = Website(url)\n",
    "    user_prompt = user_prompt_for(website_data)\n",
    "    messages = [\n",
    "        {\"role\": \"system\", \"content\": system_prompt},\n",
    "        {\"role\": \"user\", \"content\": user_prompt}\n",
    "        ]\n",
    "    return messages"
   ]
  },
  {
   "cell_type": "markdown",
   "id": "beed4101-1b63-45f1-a114-d96cf5448e82",
   "metadata": {},
   "source": [
    "### 7. Creating a system prompt for assigning a specific role to the AI agent"
   ]
  },
  {
   "cell_type": "code",
   "execution_count": 167,
   "id": "f42a2045-7783-4002-8723-4e3685396f00",
   "metadata": {},
   "outputs": [],
   "source": [
    "system_prompt = \"You are an assistant that analyzes website contents and provides \\\n",
    "accurate and concise, ignoring text related to advetrts, navigation, or menus. \\\n",
    "Responses should be in markdown.\""
   ]
  },
  {
   "cell_type": "markdown",
   "id": "d0db9423-0bee-46f5-bdad-106c925bb82d",
   "metadata": {},
   "source": [
    "### 8. Put the full prompt together"
   ]
  },
  {
   "cell_type": "code",
   "execution_count": 170,
   "id": "7a23f444-7e4a-4968-89e5-82bd32104553",
   "metadata": {},
   "outputs": [],
   "source": [
    "# Example website url\n",
    "website = 'https://www.cnn.com'\n",
    "\n",
    "prompt = create_prompt(url=website, system_prompt=system_prompt)"
   ]
  },
  {
   "cell_type": "markdown",
   "id": "d562968e-5ab0-4eef-a093-5f23be8e51bb",
   "metadata": {},
   "source": [
    "### Send the query to the agent"
   ]
  },
  {
   "cell_type": "code",
   "execution_count": null,
   "id": "e58b1f43-bf4e-4b84-8a1f-18d77779faf2",
   "metadata": {},
   "outputs": [],
   "source": [
    "response = openai.chat.completions.create(model=\"gpt-4o-mini\", messages=prompt)\n",
    "#print(response.choices[0].message.content)"
   ]
  },
  {
   "cell_type": "markdown",
   "id": "26e6b937-e89b-4176-b5c7-c133f20ad199",
   "metadata": {},
   "source": [
    "### 9. Display the summarised website"
   ]
  },
  {
   "cell_type": "code",
   "execution_count": 185,
   "id": "6c22d1ba-ed36-43d8-a957-b72eb544fe3d",
   "metadata": {},
   "outputs": [
    {
     "data": {
      "text/markdown": [
       "# CNN Website Content Summary\n",
       "\n",
       "## Feedback Section\n",
       "- CNN encourages user feedback on advertisements and technical issues encountered on the site.\n",
       "\n",
       "## News Topics\n",
       "CNN features a wide variety of news categories, including:\n",
       "- **US**\n",
       "- **World**\n",
       "- **Politics**\n",
       "- **Business**\n",
       "- **Health**\n",
       "- **Entertainment**\n",
       "- **Style**\n",
       "- **Travel**\n",
       "- **Sports**\n",
       "- **Science**\n",
       "- **Climate**\n",
       "- **Weather**\n",
       "- **Ukraine-Russia War**\n",
       "- **Israel-Hamas War**\n",
       "\n",
       "## Notable News Stories\n",
       "1. Trump and Russia:\n",
       "   - Accusations of Trump being \"not sufficiently informed\" about Ukraine by a Kremlin aide.\n",
       "   - Trump to assess Putin's seriousness on Ukraine peace.\n",
       "   - Zelensky's departure from Germany with pledges for long-range weapon assistance.\n",
       "\n",
       "2. Middle East Conflicts:\n",
       "   - Israeli PM Netanyahu announces the death of a Hamas leader.\n",
       "   - Appeal by Lebanese leaders for US pressure on Israel regarding troop withdrawals.\n",
       "   - Concerns voiced by freed Israeli hostages.\n",
       "\n",
       "3. Global News:\n",
       "   - Sentencing of a surgeon in France for abuses.\n",
       "   - Tragic incidents involving passenger boats in the Canary Islands.\n",
       "   - Medical findings linking THC with heart disease.\n",
       "   - Warning from major retailers about consumer boycotts.\n",
       "\n",
       "4. Technology and Business:\n",
       "   - Discussion about consumer behavior and economic forecasts.\n",
       "   - Developments regarding Apple and online safety regulations.\n",
       "\n",
       "## Features\n",
       "- **Videos and Podcasts:** CNN offers various video segments and podcasts, including \"CNN 5 Things,\" \"Chasing Life with Dr. Sanjay Gupta,\" and \"The Assignment.\"\n",
       "- **Interactive Games:** Crossword puzzles and quizzes are available for users to engage with.\n",
       "\n",
       "## Special Reports\n",
       "- International reports on consumer trends, environmental challenges, and updates on significant geopolitical events.\n",
       "\n",
       "## Health & Wellness\n",
       "- Articles discussing health topics, including chronic diseases and the need for emotional well-being in teens.\n",
       "\n",
       "## Closing Note\n",
       "For more content, visitors can explore CNN's dedicated sections for updates on ongoing stories and featured topics in various domains."
      ],
      "text/plain": [
       "<IPython.core.display.Markdown object>"
      ]
     },
     "metadata": {},
     "output_type": "display_data"
    }
   ],
   "source": [
    "display(Markdown(response.choices[0].message.content))"
   ]
  },
  {
   "cell_type": "code",
   "execution_count": null,
   "id": "746b1810-8a0c-4ca5-a43d-06d48f63ab42",
   "metadata": {},
   "outputs": [],
   "source": []
  }
 ],
 "metadata": {
  "kernelspec": {
   "display_name": "Python [conda env:general_env]",
   "language": "python",
   "name": "conda-env-general_env-py"
  },
  "language_info": {
   "codemirror_mode": {
    "name": "ipython",
    "version": 3
   },
   "file_extension": ".py",
   "mimetype": "text/x-python",
   "name": "python",
   "nbconvert_exporter": "python",
   "pygments_lexer": "ipython3",
   "version": "3.11.11"
  }
 },
 "nbformat": 4,
 "nbformat_minor": 5
}
