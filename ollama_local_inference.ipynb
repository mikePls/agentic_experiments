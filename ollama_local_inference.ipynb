{
 "cells": [
  {
   "cell_type": "code",
   "execution_count": 9,
   "id": "92ab7b52",
   "metadata": {},
   "outputs": [],
   "source": [
    "import requests\n",
    "from bs4 import BeautifulSoup\n",
    "from openai import OpenAI\n",
    "from IPython.display import Markdown, display\n",
    "import ollama"
   ]
  },
  {
   "cell_type": "markdown",
   "id": "3dfa596d",
   "metadata": {},
   "source": [
    "#### By default ollama runs on http://localhost:11434"
   ]
  },
  {
   "cell_type": "code",
   "execution_count": null,
   "id": "178aad75",
   "metadata": {},
   "outputs": [],
   "source": [
    "OLLAMA_API = \"http://localhost:11434/api/chat\"\n",
    "HEADERS = {\"Content-Type\": \"application.json\"}\n",
    "MODEL = \"llama3.2\""
   ]
  },
  {
   "cell_type": "code",
   "execution_count": 3,
   "id": "6a759371",
   "metadata": {},
   "outputs": [],
   "source": [
    "messages = [{\"role\": \"user\", \"content\": \"Describe some of the business use-cases of GEN-AI\"}]"
   ]
  },
  {
   "cell_type": "code",
   "execution_count": 4,
   "id": "43339331",
   "metadata": {},
   "outputs": [],
   "source": [
    "payload = {\n",
    "    \"model\": MODEL,\n",
    "    \"messages\": messages,\n",
    "    \"stream\": False\n",
    "}"
   ]
  },
  {
   "cell_type": "code",
   "execution_count": 5,
   "id": "1d2fe7ba",
   "metadata": {},
   "outputs": [],
   "source": [
    "response = requests.post(url=OLLAMA_API, headers=HEADERS, json=payload)"
   ]
  },
  {
   "cell_type": "code",
   "execution_count": 8,
   "id": "fa7450c3",
   "metadata": {},
   "outputs": [
    {
     "name": "stdout",
     "output_type": "stream",
     "text": [
      "GEN-AI (Generalized Artificial Intelligence) refers to a broad class of artificial intelligence systems that are designed to be highly flexible, adaptable, and general-purpose. Some potential business use cases for GEN-AI include:\n",
      "\n",
      "1. **Virtual Customer Assistants**: GEN-AI-powered virtual assistants can be used to provide 24/7 customer support, answering customer inquiries, and routing complex issues to human representatives.\n",
      "2. **Automated Data Analysis**: GEN-AI algorithms can be applied to large datasets to identify patterns, trends, and insights that may not be visible to humans. This can be useful for businesses looking to gain a competitive edge through data-driven decision making.\n",
      "3. **Predictive Maintenance**: GEN-AI-powered predictive maintenance systems can analyze sensor data from machines and equipment to predict when maintenance is required, reducing downtime and increasing overall efficiency.\n",
      "4. **Content Generation**: GEN-AI algorithms can be used to generate high-quality content such as articles, social media posts, and even entire books, freeing up human writers to focus on higher-level creative tasks.\n",
      "5. **Supply Chain Optimization**: GEN-AI-powered systems can analyze supply chain data to identify bottlenecks, optimize routes, and predict demand, leading to improved logistics and reduced costs.\n",
      "6. **Cybersecurity Threat Detection**: GEN-AI-powered systems can analyze network traffic and detect potential cybersecurity threats in real-time, providing businesses with a competitive edge in terms of security.\n",
      "7. **Chatbots for Sales and Marketing**: GEN-AI-powered chatbots can be used to engage with customers, answer questions, and provide personalized recommendations, leading to improved sales and marketing outcomes.\n",
      "8. **Autonomous Decision Making**: GEN-AI algorithms can be applied to complex decision-making processes to provide objective, data-driven insights that are not subject to human bias or emotional influence.\n",
      "9. **Supply Chain Risk Management**: GEN-AI-powered systems can analyze supply chain data to identify potential risks and develop strategies to mitigate them, reducing the risk of disruptions and improving overall resilience.\n",
      "10. **Digital Transformation Consulting**: GEN-AI-powered systems can be used to analyze business processes and provide recommendations for digital transformation, helping businesses to stay ahead of the curve in terms of innovation and competitiveness.\n",
      "\n",
      "These are just a few examples of the many potential business use cases for GEN-AI. As the technology continues to evolve, we can expect to see even more innovative applications across various industries.\n"
     ]
    }
   ],
   "source": [
    "print(response.json()[\"message\"][\"content\"])"
   ]
  },
  {
   "cell_type": "code",
   "execution_count": 11,
   "id": "16a3a709",
   "metadata": {},
   "outputs": [],
   "source": [
    "response = ollama.chat(model=MODEL, messages=messages)"
   ]
  },
  {
   "cell_type": "code",
   "execution_count": 13,
   "id": "00b05f6d",
   "metadata": {},
   "outputs": [
    {
     "name": "stdout",
     "output_type": "stream",
     "text": [
      "Generation AI (GEN-AI), also known as next-generation or fourth-generation artificial intelligence, refers to a new era of AI that combines the capabilities of traditional AI with advanced technologies such as multimodal learning, explainability, and transfer learning. Some potential business use-cases of GEN-AI include:\n",
      "\n",
      "1. **Smart Personal Assistants**: GEN-AI-powered personal assistants can learn users' habits, preferences, and goals to provide more personalized and intelligent support, such as scheduling appointments, making recommendations, and providing real-time advice.\n",
      "2. **Intelligent Content Creation**: GEN-AI can generate high-quality, human-like content, such as articles, social media posts, and videos, reducing the need for manual writing and editing. This can be used in applications like content marketing, social media management, and e-learning platforms.\n",
      "3. **Predictive Maintenance and Quality Control**: GEN-AI-powered sensors and predictive analytics can monitor equipment performance and detect potential issues before they occur, reducing downtime and increasing overall efficiency.\n",
      "4. **Autonomous Decision-Making**: GEN-AI algorithms can analyze vast amounts of data to make informed decisions, such as optimizing supply chains, predicting market trends, and identifying potential risks.\n",
      "5. **Virtual Customer Service Representatives**: GEN-AI-powered chatbots and virtual assistants can provide 24/7 customer support, answering common questions, resolving issues, and routing complex problems to human representatives.\n",
      "6. **Intelligent Healthcare Diagnostics**: GEN-AI algorithms can analyze medical images, patient data, and lab results to identify potential health risks, diagnose diseases, and recommend personalized treatment plans.\n",
      "7. **Smart Supply Chain Management**: GEN-AI-powered sensors and predictive analytics can optimize inventory levels, manage logistics, and predict demand to reduce costs and improve delivery times.\n",
      "8. **Cybersecurity Threat Detection**: GEN-AI-powered systems can analyze network traffic, identify potential threats, and detect vulnerabilities in real-time, reducing the risk of cyber attacks and data breaches.\n",
      "9. **Autonomous Vehicles**: GEN-AI algorithms can enable self-driving cars and trucks to navigate complex road networks, avoid accidents, and optimize fuel efficiency.\n",
      "10. **Smart Energy Management**: GEN-AI-powered systems can analyze energy usage patterns, predict demand, and optimize energy distribution to reduce waste and costs.\n",
      "\n",
      "These use-cases represent just a few examples of the many potential applications of GEN-AI in various industries and domains. As the technology continues to evolve, we can expect to see even more innovative solutions emerge.\n"
     ]
    }
   ],
   "source": [
    "print(response.message.content)"
   ]
  },
  {
   "cell_type": "code",
   "execution_count": null,
   "id": "fe519c04",
   "metadata": {},
   "outputs": [],
   "source": []
  }
 ],
 "metadata": {
  "kernelspec": {
   "display_name": "general_env",
   "language": "python",
   "name": "python3"
  },
  "language_info": {
   "codemirror_mode": {
    "name": "ipython",
    "version": 3
   },
   "file_extension": ".py",
   "mimetype": "text/x-python",
   "name": "python",
   "nbconvert_exporter": "python",
   "pygments_lexer": "ipython3",
   "version": "3.11.11"
  }
 },
 "nbformat": 4,
 "nbformat_minor": 5
}
